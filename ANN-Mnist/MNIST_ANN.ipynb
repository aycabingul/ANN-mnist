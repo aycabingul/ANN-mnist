{
  "nbformat": 4,
  "nbformat_minor": 0,
  "metadata": {
    "colab": {
      "name": "MNIST.ipynb",
      "provenance": [],
      "collapsed_sections": []
    },
    "kernelspec": {
      "name": "python3",
      "display_name": "Python 3"
    }
  },
  "cells": [
    {
      "cell_type": "markdown",
      "metadata": {
        "id": "hsaMpZveqHuN"
      },
      "source": [
        "# **MNIST Dataseti ile Deep Learning Uygulaması**"
      ]
    },
    {
      "cell_type": "markdown",
      "metadata": {
        "id": "43DljffPAUG_"
      },
      "source": [
        "## Load Data"
      ]
    },
    {
      "cell_type": "code",
      "metadata": {
        "id": "q8q-1GFP3Ckk"
      },
      "source": [
        "from keras.datasets import mnist"
      ],
      "execution_count": 1,
      "outputs": []
    },
    {
      "cell_type": "code",
      "metadata": {
        "id": "IHQLsG8b3YTg",
        "colab": {
          "base_uri": "https://localhost:8080/"
        },
        "outputId": "788892ae-f388-46dd-e885-cebbd12d30ce"
      },
      "source": [
        "(x_train, y_train), (x_test, y_test) = mnist.load_data()\n",
        "\n",
        "print(\"ilk datanin shape'i:\", x_train[0].shape) # (28, 28)\n",
        "print(\"ilk datanin icerigi:\", y_train[0]) # 5"
      ],
      "execution_count": 2,
      "outputs": [
        {
          "output_type": "stream",
          "text": [
            "ilk datanin shape'i: (28, 28)\n",
            "ilk datanin icerigi: 5\n"
          ],
          "name": "stdout"
        }
      ]
    },
    {
      "cell_type": "markdown",
      "metadata": {
        "id": "Gx9taNhu3m32"
      },
      "source": [
        "## Normalization"
      ]
    },
    {
      "cell_type": "code",
      "metadata": {
        "id": "M9hKAKqS3g9u",
        "colab": {
          "base_uri": "https://localhost:8080/"
        },
        "outputId": "7b9770ec-0e7a-4a59-9e9e-88bbaeaa08ff"
      },
      "source": [
        "x_train_norm = x_train.reshape((60000, 28*28)) #Goruntuyu vektore donusturur\n",
        "x_train_norm = x_train_norm.astype('float32') / 255 #Normalize eder\n",
        "x_test_norm = x_test.reshape((10000, 28*28)) \n",
        "x_test_norm = x_test_norm.astype('float32') / 255\n",
        "\n",
        "print(\"Normalizasyon sonrasi shape:\", x_train_norm.shape) # (60000, 784)"
      ],
      "execution_count": 3,
      "outputs": [
        {
          "output_type": "stream",
          "text": [
            "Normalizasyon sonrasi shape: (60000, 784)\n"
          ],
          "name": "stdout"
        }
      ]
    },
    {
      "cell_type": "markdown",
      "metadata": {
        "id": "v2iTK4gz_tAE"
      },
      "source": [
        "## Model"
      ]
    },
    {
      "cell_type": "markdown",
      "metadata": {
        "id": "CRvLzG7dqjGc"
      },
      "source": [
        "Devamında ağın yapısını tanımlamamız gerekiyor."
      ]
    },
    {
      "cell_type": "code",
      "metadata": {
        "id": "tGdpo7DHqlRX"
      },
      "source": [
        "from keras import models\n",
        "from keras import layers"
      ],
      "execution_count": 4,
      "outputs": []
    },
    {
      "cell_type": "markdown",
      "metadata": {
        "id": "Ckjw-rH5rq86"
      },
      "source": [
        "`from keras.models import Sequential` gibi de kullanabiliriz."
      ]
    },
    {
      "cell_type": "markdown",
      "metadata": {
        "id": "8aiC0qimr37K"
      },
      "source": [
        "Modeli kullanmadan önce `models.Sequential()` gibi tanımlamalıyız."
      ]
    },
    {
      "cell_type": "code",
      "metadata": {
        "id": "x3tkIPJ7q2xq"
      },
      "source": [
        "model = models.Sequential()"
      ],
      "execution_count": 5,
      "outputs": []
    },
    {
      "cell_type": "code",
      "metadata": {
        "id": "OPcLk4IWq4Uz"
      },
      "source": [
        "#Giris katmani\n",
        "model.add(layers.Dense(32, \n",
        "                       activation='relu', \n",
        "                       input_shape=(28*28,)))"
      ],
      "execution_count": 6,
      "outputs": []
    },
    {
      "cell_type": "code",
      "metadata": {
        "id": "6tDFmaqOvgNd"
      },
      "source": [
        "model.add(layers.Dense(32,\n",
        "                       activation='relu'))"
      ],
      "execution_count": 7,
      "outputs": []
    },
    {
      "cell_type": "markdown",
      "metadata": {
        "id": "KN6kOTt3xxgp"
      },
      "source": [
        "Çıkış katmanımızda 10 adet çıkış olmalı.  \n",
        "0,1,2,3,4,5,6,7,8,9\n",
        "\n",
        "Bu, **multi class classification** olarak geçer. Dolayısıyla çıkış katmanımızda activation function olarak **softmax** tercih ediyoruz.\n",
        "\n",
        "**Binary Classification**'da ise genelde **sigmoid** tercih edilir."
      ]
    },
    {
      "cell_type": "code",
      "metadata": {
        "id": "HNbRGdiZkK2U"
      },
      "source": [
        "#Cikis katmani\n",
        "model.add(layers.Dense(10, #cikis sayisina esit olmali\n",
        "                       activation=\"softmax\"))"
      ],
      "execution_count": 8,
      "outputs": []
    },
    {
      "cell_type": "markdown",
      "metadata": {
        "id": "RkerrR63EmRX"
      },
      "source": [
        "`categorical_crossentropy` kullanabilmemiz için, çıkış datalarımız olan *y_train* ve *y_test* datalarını categorical'a dönüştürmemiz gerekiyor.\n",
        "\n",
        "Örneğin, **5** olarak değil **[0,0,0,0,0,1,0,0,0,0]** olarak modele vermemiz gerekiyor.\n",
        "\n",
        "`sparse_categorical_crossentropy` bu işlemi kendisi yapar. `to_categorical` yapmamıza gerek kalmaz."
      ]
    },
    {
      "cell_type": "code",
      "metadata": {
        "id": "U4LK2IzGGbcl"
      },
      "source": [
        "from keras.utils import to_categorical\n",
        "y_train = to_categorical(y_train)\n",
        "y_test = to_categorical(y_test)"
      ],
      "execution_count": 9,
      "outputs": []
    },
    {
      "cell_type": "code",
      "metadata": {
        "colab": {
          "base_uri": "https://localhost:8080/"
        },
        "id": "-QxWubXeJXlc",
        "outputId": "c0b947c5-b30a-442f-fbf5-1cccf6c6a71f"
      },
      "source": [
        "y_train.shape"
      ],
      "execution_count": 10,
      "outputs": [
        {
          "output_type": "execute_result",
          "data": {
            "text/plain": [
              "(60000, 10)"
            ]
          },
          "metadata": {
            "tags": []
          },
          "execution_count": 10
        }
      ]
    },
    {
      "cell_type": "code",
      "metadata": {
        "colab": {
          "base_uri": "https://localhost:8080/"
        },
        "id": "JeCgEcxOJZlV",
        "outputId": "6d3c1371-2cca-47ea-e87b-3177cc0f1c88"
      },
      "source": [
        "y_train[0,:] # 5 vardi"
      ],
      "execution_count": 11,
      "outputs": [
        {
          "output_type": "execute_result",
          "data": {
            "text/plain": [
              "array([0., 0., 0., 0., 0., 1., 0., 0., 0., 0.], dtype=float32)"
            ]
          },
          "metadata": {
            "tags": []
          },
          "execution_count": 11
        }
      ]
    },
    {
      "cell_type": "markdown",
      "metadata": {
        "id": "hqdFqgV10zCC"
      },
      "source": [
        "Optimizer olarak *Stochastic Gradient Descent (SGD)* kullanıyoruz.\n",
        "\n",
        "Loss function olarak *Categorical Cross Entropy* kullanıyoruz.  \n",
        "Problem tipi Regresyon ise genelde *mse, mae* gibi regresyon fonksiyonları kullanılır.  \n",
        "Multi class classification'da ise *cross entropy* veya *sparse categorical cross entropy* kullanılır.\n",
        "\n",
        "Metrics ise ekrana yazdıracağımız değeri belirtir.\n",
        "\n",
        "\n"
      ]
    },
    {
      "cell_type": "code",
      "metadata": {
        "id": "Gi1wumg5rG1Z"
      },
      "source": [
        "model.compile(optimizer=\"sgd\", \n",
        "              loss=\"categorical_crossentropy\",\n",
        "              metrics=[\"accuracy\"])"
      ],
      "execution_count": 12,
      "outputs": []
    },
    {
      "cell_type": "markdown",
      "metadata": {
        "id": "cTzLEF14SBWs"
      },
      "source": [
        "Modelin yapısını özet olarak görelim;"
      ]
    },
    {
      "cell_type": "code",
      "metadata": {
        "colab": {
          "base_uri": "https://localhost:8080/"
        },
        "id": "DMfSI0YxSA0E",
        "outputId": "d1832a92-9ae6-48b4-9850-cab276674c7a"
      },
      "source": [
        "model.summary()"
      ],
      "execution_count": 13,
      "outputs": [
        {
          "output_type": "stream",
          "text": [
            "Model: \"sequential\"\n",
            "_________________________________________________________________\n",
            "Layer (type)                 Output Shape              Param #   \n",
            "=================================================================\n",
            "dense (Dense)                (None, 32)                25120     \n",
            "_________________________________________________________________\n",
            "dense_1 (Dense)              (None, 32)                1056      \n",
            "_________________________________________________________________\n",
            "dense_2 (Dense)              (None, 10)                330       \n",
            "=================================================================\n",
            "Total params: 26,506\n",
            "Trainable params: 26,506\n",
            "Non-trainable params: 0\n",
            "_________________________________________________________________\n"
          ],
          "name": "stdout"
        }
      ]
    },
    {
      "cell_type": "markdown",
      "metadata": {
        "id": "FPXZ7QPiSMDa"
      },
      "source": [
        "Birinci katmanın çıkışı 32 olarak gözüküyor.  \n",
        "\n",
        "Neden 25120 parametre var?  \n",
        "Girişimiz 784 elemanlı.  \n",
        "Her bir hücreden 784x32 adet *weights* bağlantısı var demektir.  \n",
        "*Bias*'lar da var; 32 adet. (her bir hücre için 1 adet.)  \n",
        "`784x32+32 = 25120` değiştirilebilir parametreye denk gelir.\n",
        "\n",
        "İkinci katman hidden layer'dır.(dense_1)  \n",
        "Bu katmanın giriş sayısı önceki katmanın çıkış sayısı kadardır yani 16.  \n",
        "32x32 adet weights var 32 adet de bias var. Yani toplam;  \n",
        "`32x32+32 = 1056` değiştirilebilir parametreye denk gelir.\n",
        "\n",
        "Son katman, çıkış katmanımızdır. 10 adet hücre var.  \n",
        "32x10 = 320 adet weights var, 10 adet de bias var.  \n",
        "`32x10+10 = 330` değiştirilebilir parametreye denk gelir.\n",
        "\n",
        "---"
      ]
    },
    {
      "cell_type": "markdown",
      "metadata": {
        "id": "MlKPeTOl_0eP"
      },
      "source": [
        "### Train"
      ]
    },
    {
      "cell_type": "markdown",
      "metadata": {
        "id": "_mUPtthzxB7o"
      },
      "source": [
        "Sıradaki adımımız modeli eğitmek."
      ]
    },
    {
      "cell_type": "code",
      "metadata": {
        "id": "Sr9y1XMGy86c",
        "colab": {
          "base_uri": "https://localhost:8080/"
        },
        "outputId": "97548db5-6645-45cf-84bc-ef88f0942c70"
      },
      "source": [
        "model.fit(x_train_norm, y_train, epochs=10, batch_size=16)"
      ],
      "execution_count": 14,
      "outputs": [
        {
          "output_type": "stream",
          "text": [
            "Epoch 1/10\n",
            "3750/3750 [==============================] - 4s 1ms/step - loss: 0.5744 - accuracy: 0.8344\n",
            "Epoch 2/10\n",
            "3750/3750 [==============================] - 4s 1ms/step - loss: 0.2687 - accuracy: 0.9230\n",
            "Epoch 3/10\n",
            "3750/3750 [==============================] - 4s 1ms/step - loss: 0.2213 - accuracy: 0.9360\n",
            "Epoch 4/10\n",
            "3750/3750 [==============================] - 4s 1ms/step - loss: 0.1921 - accuracy: 0.9449\n",
            "Epoch 5/10\n",
            "3750/3750 [==============================] - 4s 1ms/step - loss: 0.1709 - accuracy: 0.9515\n",
            "Epoch 6/10\n",
            "3750/3750 [==============================] - 4s 1ms/step - loss: 0.1546 - accuracy: 0.9559\n",
            "Epoch 7/10\n",
            "3750/3750 [==============================] - 4s 1ms/step - loss: 0.1416 - accuracy: 0.9588\n",
            "Epoch 8/10\n",
            "3750/3750 [==============================] - 4s 1ms/step - loss: 0.1304 - accuracy: 0.9625\n",
            "Epoch 9/10\n",
            "3750/3750 [==============================] - 4s 1ms/step - loss: 0.1216 - accuracy: 0.9656\n",
            "Epoch 10/10\n",
            "3750/3750 [==============================] - 4s 1ms/step - loss: 0.1137 - accuracy: 0.9671\n"
          ],
          "name": "stdout"
        },
        {
          "output_type": "execute_result",
          "data": {
            "text/plain": [
              "<tensorflow.python.keras.callbacks.History at 0x7efd1dcd0ac8>"
            ]
          },
          "metadata": {
            "tags": []
          },
          "execution_count": 14
        }
      ]
    },
    {
      "cell_type": "markdown",
      "metadata": {
        "id": "jBijY-TpLGUo"
      },
      "source": [
        "Eğitilmiş ağın performansını ölçelim.\n",
        "\n",
        "Eğitim bittikten sonra eğitimde kullanılmamış görüntülerle ağın başarımı belli olur."
      ]
    },
    {
      "cell_type": "code",
      "metadata": {
        "colab": {
          "base_uri": "https://localhost:8080/"
        },
        "id": "Xugp6ZDGLId5",
        "outputId": "d043ddff-a997-4d25-ef58-193ea8c5162e"
      },
      "source": [
        "test_loss, test_acc = model.evaluate(x_test_norm, y_test) #test_images, test_labels"
      ],
      "execution_count": 15,
      "outputs": [
        {
          "output_type": "stream",
          "text": [
            "313/313 [==============================] - 0s 893us/step - loss: 0.1258 - accuracy: 0.9635\n"
          ],
          "name": "stdout"
        }
      ]
    },
    {
      "cell_type": "code",
      "metadata": {
        "id": "VTTzp67CR3lG",
        "colab": {
          "base_uri": "https://localhost:8080/"
        },
        "outputId": "396e60c2-2bbd-4856-e9b1-80376bc40bfb"
      },
      "source": [
        "print(\"test_acc=\", test_acc)\n",
        "print(\"test_loss=\", test_loss)"
      ],
      "execution_count": 16,
      "outputs": [
        {
          "output_type": "stream",
          "text": [
            "test_acc= 0.9635000228881836\n",
            "test_loss= 0.12580308318138123\n"
          ],
          "name": "stdout"
        }
      ]
    },
    {
      "cell_type": "markdown",
      "metadata": {
        "id": "Jdy9pr9T93P8"
      },
      "source": [
        "Eğitilen ağırlıklarımız bize %96.2 doğruluk sağladı."
      ]
    },
    {
      "cell_type": "markdown",
      "metadata": {
        "id": "CGOKwxdZmRBB"
      },
      "source": [
        "Bizim eğittiğimiz şey aslında modelin ağırlıklarıdır."
      ]
    },
    {
      "cell_type": "code",
      "metadata": {
        "id": "6N8ZFeJRkZG0"
      },
      "source": [
        "W = model.get_weights()"
      ],
      "execution_count": 17,
      "outputs": []
    },
    {
      "cell_type": "code",
      "metadata": {
        "colab": {
          "base_uri": "https://localhost:8080/"
        },
        "id": "qv-UiAr2mX9e",
        "outputId": "2c20f2c6-890b-499b-f7a7-550cf7d5488f"
      },
      "source": [
        "W[0] #egitilmis katsayilar"
      ],
      "execution_count": 18,
      "outputs": [
        {
          "output_type": "execute_result",
          "data": {
            "text/plain": [
              "array([[ 0.05216592, -0.04865834,  0.03654503, ...,  0.03217522,\n",
              "         0.03828795, -0.02060882],\n",
              "       [-0.00463822,  0.04893257,  0.08200658, ..., -0.03033052,\n",
              "        -0.00364821,  0.00327453],\n",
              "       [-0.0278175 , -0.07126219,  0.06784152, ..., -0.04191644,\n",
              "         0.01705803,  0.08221578],\n",
              "       ...,\n",
              "       [ 0.07393975, -0.05837067,  0.06674417, ..., -0.00143821,\n",
              "         0.08097332,  0.02086274],\n",
              "       [ 0.01044305,  0.05597406,  0.00042134, ...,  0.03103415,\n",
              "         0.01299696, -0.04913827],\n",
              "       [-0.07908145,  0.04105467, -0.07807848, ...,  0.02346081,\n",
              "        -0.0642796 , -0.04574802]], dtype=float32)"
            ]
          },
          "metadata": {
            "tags": []
          },
          "execution_count": 18
        }
      ]
    },
    {
      "cell_type": "code",
      "metadata": {
        "colab": {
          "base_uri": "https://localhost:8080/"
        },
        "id": "qMoA5SdemfX_",
        "outputId": "3c14cb24-bc5d-479e-cb11-5ec962182145"
      },
      "source": [
        "W[0].shape "
      ],
      "execution_count": 19,
      "outputs": [
        {
          "output_type": "execute_result",
          "data": {
            "text/plain": [
              "(784, 32)"
            ]
          },
          "metadata": {
            "tags": []
          },
          "execution_count": 19
        }
      ]
    },
    {
      "cell_type": "markdown",
      "metadata": {
        "id": "d6cY1-iKm3mk"
      },
      "source": [
        "İlk başta random üretilen kat sayılar öyle değerler almış ki bize yukarıdaki başarıyı sağladılar.  \n",
        "Bu ağırlıkları kaydedersek weights'leri daha sonra tekrar kullanabiliriz. Modeli ve ağırlıkları saklamam lazım.  \n",
        "\n",
        "Modeli kaydederken uzantısı genelde *.h5* olur."
      ]
    },
    {
      "cell_type": "code",
      "metadata": {
        "id": "WYFs8iZVmhdb"
      },
      "source": [
        "# mnist_model.h5\n",
        "model.save(\"/content/drive/Shareddrives/UnlimitedDrive/Works/Deep_Learning/ISE-DL/MNIST/mnist_model.h5\")"
      ],
      "execution_count": 20,
      "outputs": []
    },
    {
      "cell_type": "markdown",
      "metadata": {
        "id": "AaHEPP7qyo5H"
      },
      "source": [
        "Ağırlıkları da kaydedelim;"
      ]
    },
    {
      "cell_type": "code",
      "metadata": {
        "id": "Zx0wK4EZvBWI"
      },
      "source": [
        "# mnist_weights.h5\n",
        "model.save_weights(\"/content/drive/Shareddrives/UnlimitedDrive/Works/Deep_Learning/ISE-DL/MNIST/mnist_weights.h5\")"
      ],
      "execution_count": 21,
      "outputs": []
    },
    {
      "cell_type": "markdown",
      "metadata": {
        "id": "IgynX9n_zpMI"
      },
      "source": [
        "Kaydettiğimiz modeli şu şekilde yeniden yükleyebiliriz;\n",
        "\n",
        "```\n",
        "from keras import models\n",
        "model = models.load_model(\"mnist_model.h5\")\n",
        "```\n",
        "\n",
        "\n",
        "\n"
      ]
    },
    {
      "cell_type": "markdown",
      "metadata": {
        "id": "8jQ8drkp1wfI"
      },
      "source": [
        "---\n",
        "### Predict\n"
      ]
    },
    {
      "cell_type": "markdown",
      "metadata": {
        "id": "3mTOsJLwAG4a"
      },
      "source": [
        "Şimdi eğittiğimiz modeli kullanacağız.  \n",
        "Predict yapacağız.\n",
        "\n",
        "Başlangıçta test verilerimize ve train verilerimize normalizasyon uygulamıştık;\n",
        "\n",
        "```\n",
        "x_test_norm = x_test.reshape((10000, 28*28)) \n",
        "x_test_norm = x_test_norm.astype('float32') / 255\n",
        "```"
      ]
    },
    {
      "cell_type": "markdown",
      "metadata": {
        "id": "m5p-dNQr-XV6"
      },
      "source": [
        "Predict işlemine geçmeden önce dataları biraz inceleyelim."
      ]
    },
    {
      "cell_type": "code",
      "metadata": {
        "colab": {
          "base_uri": "https://localhost:8080/"
        },
        "id": "cpg34cVd4dho",
        "outputId": "8dfa3c47-6431-4779-df8d-6df4e82aea6d"
      },
      "source": [
        "x_test[1]"
      ],
      "execution_count": 22,
      "outputs": [
        {
          "output_type": "execute_result",
          "data": {
            "text/plain": [
              "array([[  0,   0,   0,   0,   0,   0,   0,   0,   0,   0,   0,   0,   0,\n",
              "          0,   0,   0,   0,   0,   0,   0,   0,   0,   0,   0,   0,   0,\n",
              "          0,   0],\n",
              "       [  0,   0,   0,   0,   0,   0,   0,   0,   0,   0,   0,   0,   0,\n",
              "          0,   0,   0,   0,   0,   0,   0,   0,   0,   0,   0,   0,   0,\n",
              "          0,   0],\n",
              "       [  0,   0,   0,   0,   0,   0,   0,   0,   0,   0,   0,   0,   0,\n",
              "          0,   0,   0,   0,   0,   0,   0,   0,   0,   0,   0,   0,   0,\n",
              "          0,   0],\n",
              "       [  0,   0,   0,   0,   0,   0,   0,   0,   0,   0, 116, 125, 171,\n",
              "        255, 255, 150,  93,   0,   0,   0,   0,   0,   0,   0,   0,   0,\n",
              "          0,   0],\n",
              "       [  0,   0,   0,   0,   0,   0,   0,   0,   0, 169, 253, 253, 253,\n",
              "        253, 253, 253, 218,  30,   0,   0,   0,   0,   0,   0,   0,   0,\n",
              "          0,   0],\n",
              "       [  0,   0,   0,   0,   0,   0,   0,   0, 169, 253, 253, 253, 213,\n",
              "        142, 176, 253, 253, 122,   0,   0,   0,   0,   0,   0,   0,   0,\n",
              "          0,   0],\n",
              "       [  0,   0,   0,   0,   0,   0,   0,  52, 250, 253, 210,  32,  12,\n",
              "          0,   6, 206, 253, 140,   0,   0,   0,   0,   0,   0,   0,   0,\n",
              "          0,   0],\n",
              "       [  0,   0,   0,   0,   0,   0,   0,  77, 251, 210,  25,   0,   0,\n",
              "          0, 122, 248, 253,  65,   0,   0,   0,   0,   0,   0,   0,   0,\n",
              "          0,   0],\n",
              "       [  0,   0,   0,   0,   0,   0,   0,   0,  31,  18,   0,   0,   0,\n",
              "          0, 209, 253, 253,  65,   0,   0,   0,   0,   0,   0,   0,   0,\n",
              "          0,   0],\n",
              "       [  0,   0,   0,   0,   0,   0,   0,   0,   0,   0,   0,   0,   0,\n",
              "        117, 247, 253, 198,  10,   0,   0,   0,   0,   0,   0,   0,   0,\n",
              "          0,   0],\n",
              "       [  0,   0,   0,   0,   0,   0,   0,   0,   0,   0,   0,   0,  76,\n",
              "        247, 253, 231,  63,   0,   0,   0,   0,   0,   0,   0,   0,   0,\n",
              "          0,   0],\n",
              "       [  0,   0,   0,   0,   0,   0,   0,   0,   0,   0,   0,   0, 128,\n",
              "        253, 253, 144,   0,   0,   0,   0,   0,   0,   0,   0,   0,   0,\n",
              "          0,   0],\n",
              "       [  0,   0,   0,   0,   0,   0,   0,   0,   0,   0,   0, 176, 246,\n",
              "        253, 159,  12,   0,   0,   0,   0,   0,   0,   0,   0,   0,   0,\n",
              "          0,   0],\n",
              "       [  0,   0,   0,   0,   0,   0,   0,   0,   0,   0,  25, 234, 253,\n",
              "        233,  35,   0,   0,   0,   0,   0,   0,   0,   0,   0,   0,   0,\n",
              "          0,   0],\n",
              "       [  0,   0,   0,   0,   0,   0,   0,   0,   0,   0, 198, 253, 253,\n",
              "        141,   0,   0,   0,   0,   0,   0,   0,   0,   0,   0,   0,   0,\n",
              "          0,   0],\n",
              "       [  0,   0,   0,   0,   0,   0,   0,   0,   0,  78, 248, 253, 189,\n",
              "         12,   0,   0,   0,   0,   0,   0,   0,   0,   0,   0,   0,   0,\n",
              "          0,   0],\n",
              "       [  0,   0,   0,   0,   0,   0,   0,   0,  19, 200, 253, 253, 141,\n",
              "          0,   0,   0,   0,   0,   0,   0,   0,   0,   0,   0,   0,   0,\n",
              "          0,   0],\n",
              "       [  0,   0,   0,   0,   0,   0,   0,   0, 134, 253, 253, 173,  12,\n",
              "          0,   0,   0,   0,   0,   0,   0,   0,   0,   0,   0,   0,   0,\n",
              "          0,   0],\n",
              "       [  0,   0,   0,   0,   0,   0,   0,   0, 248, 253, 253,  25,   0,\n",
              "          0,   0,   0,   0,   0,   0,   0,   0,   0,   0,   0,   0,   0,\n",
              "          0,   0],\n",
              "       [  0,   0,   0,   0,   0,   0,   0,   0, 248, 253, 253,  43,  20,\n",
              "         20,  20,  20,   5,   0,   5,  20,  20,  37, 150, 150, 150, 147,\n",
              "         10,   0],\n",
              "       [  0,   0,   0,   0,   0,   0,   0,   0, 248, 253, 253, 253, 253,\n",
              "        253, 253, 253, 168, 143, 166, 253, 253, 253, 253, 253, 253, 253,\n",
              "        123,   0],\n",
              "       [  0,   0,   0,   0,   0,   0,   0,   0, 174, 253, 253, 253, 253,\n",
              "        253, 253, 253, 253, 253, 253, 253, 249, 247, 247, 169, 117, 117,\n",
              "         57,   0],\n",
              "       [  0,   0,   0,   0,   0,   0,   0,   0,   0, 118, 123, 123, 123,\n",
              "        166, 253, 253, 253, 155, 123, 123,  41,   0,   0,   0,   0,   0,\n",
              "          0,   0],\n",
              "       [  0,   0,   0,   0,   0,   0,   0,   0,   0,   0,   0,   0,   0,\n",
              "          0,   0,   0,   0,   0,   0,   0,   0,   0,   0,   0,   0,   0,\n",
              "          0,   0],\n",
              "       [  0,   0,   0,   0,   0,   0,   0,   0,   0,   0,   0,   0,   0,\n",
              "          0,   0,   0,   0,   0,   0,   0,   0,   0,   0,   0,   0,   0,\n",
              "          0,   0],\n",
              "       [  0,   0,   0,   0,   0,   0,   0,   0,   0,   0,   0,   0,   0,\n",
              "          0,   0,   0,   0,   0,   0,   0,   0,   0,   0,   0,   0,   0,\n",
              "          0,   0],\n",
              "       [  0,   0,   0,   0,   0,   0,   0,   0,   0,   0,   0,   0,   0,\n",
              "          0,   0,   0,   0,   0,   0,   0,   0,   0,   0,   0,   0,   0,\n",
              "          0,   0],\n",
              "       [  0,   0,   0,   0,   0,   0,   0,   0,   0,   0,   0,   0,   0,\n",
              "          0,   0,   0,   0,   0,   0,   0,   0,   0,   0,   0,   0,   0,\n",
              "          0,   0]], dtype=uint8)"
            ]
          },
          "metadata": {
            "tags": []
          },
          "execution_count": 22
        }
      ]
    },
    {
      "cell_type": "code",
      "metadata": {
        "id": "k89uaPTvvVTk"
      },
      "source": [
        "#Gorsellestirme icin\n",
        "import matplotlib.pyplot as plt\n",
        "import numpy as np"
      ],
      "execution_count": 23,
      "outputs": []
    },
    {
      "cell_type": "code",
      "metadata": {
        "id": "l9d1RRPrHfI-"
      },
      "source": [
        "inx = np.random.randint(0, 10000) #kullanmak istedigimiz test verisinin index'i"
      ],
      "execution_count": 24,
      "outputs": []
    },
    {
      "cell_type": "code",
      "metadata": {
        "colab": {
          "base_uri": "https://localhost:8080/",
          "height": 282
        },
        "id": "Y_5u-9h-zVpd",
        "outputId": "41556542-3e83-49f6-8860-0969a8fcdc83"
      },
      "source": [
        "rakam = x_test[inx]\n",
        "plt.imshow(rakam)"
      ],
      "execution_count": 25,
      "outputs": [
        {
          "output_type": "execute_result",
          "data": {
            "text/plain": [
              "<matplotlib.image.AxesImage at 0x7efd1ad82080>"
            ]
          },
          "metadata": {
            "tags": []
          },
          "execution_count": 25
        },
        {
          "output_type": "display_data",
          "data": {
            "image/png": "[encoded data removed]",
            "text/plain": [
              "<Figure size 432x288 with 1 Axes>"
            ]
          },
          "metadata": {
            "tags": [],
            "needs_background": "light"
          }
        }
      ]
    },
    {
      "cell_type": "markdown",
      "metadata": {
        "id": "dmmZPVdT-6T_"
      },
      "source": [
        "*rakam*'ın y_test'deki karşılığına bakalım;\n",
        "\n",
        "`argmax()` fonksiyonu bize en büyük elemanın konumunu verir."
      ]
    },
    {
      "cell_type": "code",
      "metadata": {
        "colab": {
          "base_uri": "https://localhost:8080/"
        },
        "id": "VS9W0ES_6yew",
        "outputId": "78e15761-c876-4bed-b27a-fe2f1c6629e4"
      },
      "source": [
        "y=np.argmax(y_test[inx])\n",
        "y"
      ],
      "execution_count": 26,
      "outputs": [
        {
          "output_type": "execute_result",
          "data": {
            "text/plain": [
              "8"
            ]
          },
          "metadata": {
            "tags": []
          },
          "execution_count": 26
        }
      ]
    },
    {
      "cell_type": "markdown",
      "metadata": {
        "id": "FJW-y8tn_Rmq"
      },
      "source": [
        "Predict yaparken normalize edilmiş verileri kullanmamız gerekiyor.  \n",
        "Yani doğrudan `x_test` değil `x_test`'in normalize edilmiş halini kullanacağız."
      ]
    },
    {
      "cell_type": "code",
      "metadata": {
        "id": "dgfTlpqv8Jcs"
      },
      "source": [
        "rakam = x_test[inx]"
      ],
      "execution_count": 27,
      "outputs": []
    },
    {
      "cell_type": "code",
      "metadata": {
        "colab": {
          "base_uri": "https://localhost:8080/"
        },
        "id": "3xeRchSxAq7M",
        "outputId": "26c420dc-8ce5-47eb-d964-0251a09f1629"
      },
      "source": [
        "pre = model.predict(rakam.reshape(1,784)/255)\n",
        "pre"
      ],
      "execution_count": 28,
      "outputs": [
        {
          "output_type": "execute_result",
          "data": {
            "text/plain": [
              "array([[4.5427732e-04, 4.7832649e-04, 1.4296563e-02, 1.6180912e-03,\n",
              "        6.0430048e-03, 1.7559936e-03, 5.2074908e-04, 8.8442524e-05,\n",
              "        9.7275847e-01, 1.9861273e-03]], dtype=float32)"
            ]
          },
          "metadata": {
            "tags": []
          },
          "execution_count": 28
        }
      ]
    },
    {
      "cell_type": "code",
      "metadata": {
        "colab": {
          "base_uri": "https://localhost:8080/"
        },
        "id": "1L_hgEkhDNp7",
        "outputId": "581d0beb-9e2d-4204-b148-a601a40d7402"
      },
      "source": [
        "tahmin_sonucu = np.argmax(pre)\n",
        "print(\"Beklenen deger:.....\", y)\n",
        "print(\"Tahmin edilen deger:\", tahmin_sonucu)"
      ],
      "execution_count": 29,
      "outputs": [
        {
          "output_type": "stream",
          "text": [
            "Beklenen deger:..... 8\n",
            "Tahmin edilen deger: 8\n"
          ],
          "name": "stdout"
        }
      ]
    }
  ]
}